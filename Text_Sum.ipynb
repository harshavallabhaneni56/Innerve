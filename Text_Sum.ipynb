{
 "cells": [
  {
   "cell_type": "markdown",
   "metadata": {},
   "source": [
    "# Text Summarization using Spacy"
   ]
  },
  {
   "cell_type": "code",
   "execution_count": 9,
   "metadata": {},
   "outputs": [],
   "source": [
    "import spacy\n",
    "from spacy.lang.en.stop_words import STOP_WORDS\n",
    "from string import punctuation\n",
    "from heapq import nlargest\n",
    "\n",
    "#Opening the text file\n",
    "f = open('trial.txt','r')\n",
    "text = f.read()\n",
    "\n",
    "#A list of all the stop words\n",
    "stopwords = list(STOP_WORDS)\n",
    "\n",
    "nlp = spacy.load('en_core_web_sm')\n",
    "\n",
    "doc = nlp(text)\n",
    "\n",
    "tokens = [token.text for token in doc ]\n",
    "\n",
    "punctuation = punctuation + '\\n' + ' ' + '  ' + '...' + '\\n           '\n",
    "\n",
    "word_frequency = {}\n",
    "for word in doc:\n",
    "    if word.text.lower() not in stopwords:\n",
    "        if word.text.lower() not in punctuation:\n",
    "            if word.text not in word_frequency.keys():\n",
    "                word_frequency[word.text] = 1\n",
    "            else:\n",
    "                word_frequency[word.text] += 1\n",
    "                \n",
    "max_frequency = max(word_frequency.values())\n",
    "\n",
    "for word in word_frequency.keys():\n",
    "    word_frequency[word] = word_frequency[word]/max_frequency\n",
    "                \n",
    "sentence_tokens = [sent for sent in doc.sents]\n",
    "\n",
    "sentence_score = {}\n",
    "for sent in sentence_tokens:\n",
    "    for word in sent:\n",
    "        if word.text.lower() in word_frequency.keys():\n",
    "            if sent not in sentence_score.keys():\n",
    "                sentence_score[sent] = word_frequency[word.text.lower()]\n",
    "            else:\n",
    "                sentence_score[sent] += word_frequency[word.text.lower()] \n",
    "\n",
    "select_length = int(len(sentence_tokens)*0.3)\n",
    "\n",
    "summary = nlargest(select_length, sentence_score, key = sentence_score.get)                \n",
    "                \n",
    "final_summary = [word.text for word in summary]\n",
    "\n",
    "summary = ' '.join(final_summary)"
   ]
  },
  {
   "cell_type": "code",
   "execution_count": 10,
   "metadata": {},
   "outputs": [
    {
     "name": "stdout",
     "output_type": "stream",
     "text": [
      "1410\n",
      "612\n",
      "Early in his speech, King alludes to Abraham Lincoln's Gettysburg Address by saying \"Five score years ago\" In reference to the abolition of slavery articulated in the Emancipation Proclamation, King says: \"It came as a joyous daybreak to end the long night of their captivity.\" Early in his speech, King urges his audience to seize the moment; \"Now is the time\" is repeated three times in the sixth paragraph. Automatic summarization is the process of shortening a set of data computationally, to create a subset (a summary) that represents the most important or relevant information within the original content.\n"
     ]
    }
   ],
   "source": [
    "print(len(text))\n",
    "print(len(summary))\n",
    "print(summary)"
   ]
  },
  {
   "cell_type": "code",
   "execution_count": null,
   "metadata": {},
   "outputs": [],
   "source": []
  }
 ],
 "metadata": {
  "kernelspec": {
   "display_name": "Python 3",
   "language": "python",
   "name": "python3"
  },
  "language_info": {
   "codemirror_mode": {
    "name": "ipython",
    "version": 3
   },
   "file_extension": ".py",
   "mimetype": "text/x-python",
   "name": "python",
   "nbconvert_exporter": "python",
   "pygments_lexer": "ipython3",
   "version": "3.7.6"
  }
 },
 "nbformat": 4,
 "nbformat_minor": 4
}
